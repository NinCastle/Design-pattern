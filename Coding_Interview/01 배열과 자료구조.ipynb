{
 "cells": [
  {
   "cell_type": "markdown",
   "metadata": {},
   "source": [
    "# 01 배열과 문자열"
   ]
  },
  {
   "cell_type": "markdown",
   "metadata": {},
   "source": [
    "## Hash Table\n",
    "\n",
    "Python의 dictionaly 구조 리스트(정수만 가능)와 다르게 모든 data type을 대응이 가능하다."
   ]
  },
  {
   "cell_type": "markdown",
   "metadata": {},
   "source": []
  },
  {
   "cell_type": "code",
   "execution_count": 4,
   "metadata": {},
   "outputs": [
    {
     "name": "stdout",
     "output_type": "stream",
     "text": [
      "{}\n"
     ]
    }
   ],
   "source": [
    "dict_ = dict()\n",
    "\n",
    "print(dict_)"
   ]
  },
  {
   "cell_type": "markdown",
   "metadata": {},
   "source": []
  },
  {
   "cell_type": "code",
   "execution_count": 6,
   "metadata": {},
   "outputs": [
    {
     "name": "stdout",
     "output_type": "stream",
     "text": [
      "주소값\n"
     ]
    }
   ],
   "source": [
    "adr = \"주소값\"\n",
    "\n",
    "hash_table = {\"key\":\"value\"}\n",
    "\n",
    "hash_linked_list = { \"key\" : adr}\n",
    "\n",
    "print(hash_linked_list[\"key\"])"
   ]
  },
  {
   "cell_type": "markdown",
   "metadata": {},
   "source": []
  },
  {
   "cell_type": "markdown",
   "metadata": {},
   "source": [
    "dictionaly의 순서는 랜덤"
   ]
  },
  {
   "cell_type": "code",
   "execution_count": 18,
   "metadata": {},
   "outputs": [
    {
     "name": "stdout",
     "output_type": "stream",
     "text": [
      "{'two': '둘', 'three': '셋', 'one': '하나'}\n",
      "하나\n"
     ]
    }
   ],
   "source": [
    "number = {\"one\":\"하나\", \"two\":\"둘\", \"three\":\"셋\"}\n",
    "print(number)\n",
    "\n",
    "print(number[\"one\"])"
   ]
  },
  {
   "cell_type": "markdown",
   "metadata": {},
   "source": []
  },
  {
   "cell_type": "markdown",
   "metadata": {},
   "source": [
    "key , value갯수"
   ]
  },
  {
   "cell_type": "code",
   "execution_count": 2,
   "metadata": {},
   "outputs": [
    {
     "name": "stdout",
     "output_type": "stream",
     "text": [
      "3\n"
     ]
    }
   ],
   "source": [
    "print(len(number))"
   ]
  },
  {
   "cell_type": "markdown",
   "metadata": {},
   "source": []
  },
  {
   "cell_type": "markdown",
   "metadata": {},
   "source": []
  },
  {
   "cell_type": "markdown",
   "metadata": {},
   "source": [
    "## ArrayList(동적으로 크기가 조절되는 배열)\n",
    "Python의 List 동적으로 크기가 조정되는 배열<br>\n",
    "$O(1)$의 접근시간을 유지한다.<br>\n",
    "배열이 가득차는 경우, 그 크기가 두배로 증가($O(n)$) 하도록 구현 하나 자주 있는 일은 아니기에 보통$O(1)$의 시간이 유지된다고 생각하면 옳다.<br>"
   ]
  },
  {
   "cell_type": "code",
   "execution_count": 7,
   "metadata": {},
   "outputs": [
    {
     "name": "stdout",
     "output_type": "stream",
     "text": [
      "[]\n"
     ]
    }
   ],
   "source": [
    "ArrayList = list()\n",
    "print(ArrayList)"
   ]
  },
  {
   "cell_type": "markdown",
   "metadata": {},
   "source": []
  },
  {
   "cell_type": "markdown",
   "metadata": {},
   "source": [
    "여러값을 쪼개서 가져 오기"
   ]
  },
  {
   "cell_type": "code",
   "execution_count": 9,
   "metadata": {
    "scrolled": true
   },
   "outputs": [
    {
     "name": "stdout",
     "output_type": "stream",
     "text": [
      "1\n",
      "5\n",
      "[2, 3]\n"
     ]
    }
   ],
   "source": [
    "slicing = [1, 2, 3, 4, 5]\n",
    "print(slicing[0])\n",
    "print(slicing[-1])\n",
    "print(slicing[1:-2]) # 마지막 값은 출력되지 않는다."
   ]
  },
  {
   "cell_type": "markdown",
   "metadata": {},
   "source": []
  },
  {
   "cell_type": "markdown",
   "metadata": {},
   "source": [
    "다양한 Operation을 지원하며 바로 \"+\" 연산하여 리스트를 연결 시킬 수 있다."
   ]
  },
  {
   "cell_type": "code",
   "execution_count": 14,
   "metadata": {},
   "outputs": [
    {
     "data": {
      "text/plain": [
       "[1, 2, 3, 4, 5, 11, 12, 13, 14, 15]"
      ]
     },
     "execution_count": 14,
     "metadata": {},
     "output_type": "execute_result"
    }
   ],
   "source": [
    "slicing + [11, 12, 13, 14, 15]"
   ]
  },
  {
   "cell_type": "code",
   "execution_count": 17,
   "metadata": {},
   "outputs": [
    {
     "ename": "TypeError",
     "evalue": "unsupported operand type(s) for -: 'list' and 'list'",
     "output_type": "error",
     "traceback": [
      "\u001b[0;31m---------------------------------------------------------------------------\u001b[0m",
      "\u001b[0;31mTypeError\u001b[0m                                 Traceback (most recent call last)",
      "\u001b[0;32m<ipython-input-17-e34e8289c561>\u001b[0m in \u001b[0;36m<module>\u001b[0;34m()\u001b[0m\n\u001b[0;32m----> 1\u001b[0;31m \u001b[0mslicing\u001b[0m \u001b[0;34m-\u001b[0m \u001b[0;34m[\u001b[0m\u001b[0;36m1\u001b[0m\u001b[0;34m,\u001b[0m \u001b[0;36m11\u001b[0m\u001b[0;34m]\u001b[0m\u001b[0;34m\u001b[0m\u001b[0m\n\u001b[0m",
      "\u001b[0;31mTypeError\u001b[0m: unsupported operand type(s) for -: 'list' and 'list'"
     ]
    }
   ],
   "source": [
    "slicing - [1, 11] # \"-\"연산은 안된다."
   ]
  },
  {
   "cell_type": "markdown",
   "metadata": {},
   "source": []
  },
  {
   "cell_type": "markdown",
   "metadata": {},
   "source": [
    "리스트는 변경 가능한(Mutable Type) 이며, 리스트 중간 값을 변경 가능하다."
   ]
  },
  {
   "cell_type": "code",
   "execution_count": 21,
   "metadata": {
    "scrolled": true
   },
   "outputs": [
    {
     "data": {
      "text/plain": [
       "[11, 12, '새로운 값', 14, 15]"
      ]
     },
     "execution_count": 21,
     "metadata": {},
     "output_type": "execute_result"
    }
   ],
   "source": [
    "mutable = [11, 12, 13, 14, 15]\n",
    "mutable[2] = \"새로운 값\"\n",
    "mutable"
   ]
  },
  {
   "cell_type": "markdown",
   "metadata": {},
   "source": []
  },
  {
   "cell_type": "markdown",
   "metadata": {},
   "source": [
    "Append()함수를 이용하여 새로운 값을 List끝에 추가 가능"
   ]
  },
  {
   "cell_type": "code",
   "execution_count": 24,
   "metadata": {},
   "outputs": [
    {
     "data": {
      "text/plain": [
       "[11, 12, 13, 14, 15, '추가 값']"
      ]
     },
     "execution_count": 24,
     "metadata": {},
     "output_type": "execute_result"
    }
   ],
   "source": [
    "app = [11, 12, 13, 14, 15]\n",
    "app.append(\"추가 값\")\n",
    "app"
   ]
  },
  {
   "cell_type": "markdown",
   "metadata": {},
   "source": []
  },
  {
   "cell_type": "markdown",
   "metadata": {},
   "source": [
    "Len()함수를 이용하여 리스트 길이 를 확인 할수 있다."
   ]
  },
  {
   "cell_type": "code",
   "execution_count": null,
   "metadata": {},
   "outputs": [],
   "source": [
    "lenth = [11, 12, 13, 14, 15]\n",
    "len(lenth)"
   ]
  },
  {
   "cell_type": "markdown",
   "metadata": {},
   "source": []
  },
  {
   "cell_type": "markdown",
   "metadata": {},
   "source": [
    "리스트 중첩이 가능"
   ]
  },
  {
   "cell_type": "code",
   "execution_count": 26,
   "metadata": {},
   "outputs": [
    {
     "data": {
      "text/plain": [
       "[['a', 'b', 'c'], [1, 2, 3]]"
      ]
     },
     "execution_count": 26,
     "metadata": {},
     "output_type": "execute_result"
    }
   ],
   "source": [
    "a = [\"a\", \"b\", \"c\"]\n",
    "n = [1, 2, 3]\n",
    "overlap = [a, n]\n",
    "overlap"
   ]
  },
  {
   "cell_type": "markdown",
   "metadata": {},
   "source": []
  },
  {
   "cell_type": "markdown",
   "metadata": {},
   "source": []
  },
  {
   "cell_type": "markdown",
   "metadata": {},
   "source": [
    "## StringBuffer\n",
    "객체의 관한 문제<br>\n",
    "\n",
    "예를 들어 다음과 같은 객체가 지속적으로 생성된다고 생각해보자\n",
    "\n",
    "    query = ‘SELECT * FROM Article ’\n",
    "    query += 'WHERE....’\n",
    "    query += 'ORDER BY.....’\n",
    "    query += .......\n",
    "\n",
    "이런식의 코딩방법은 심각한 성능 저하 현상을 발생한다. 왜냐하면 **Garbage Collection**의 대상이 되기 때문이다.\n",
    "이럴경우 코드 작성자의 의도와 다르게 객체가 생성됬다,사라졌다를 지속적으로 반복하기 때문이다.\n",
    "\n",
    "이에 대한 글의 <br>\n",
    "[원문링크](http://blog.leekchan.com/post/19062594439/python%EC%97%90%EC%84%9C-%ED%9A%A8%EC%9C%A8%EC%A0%81%EC%9D%B8-string-concatenation-%EB%B0%A9%EB%B2%95)"
   ]
  },
  {
   "cell_type": "markdown",
   "metadata": {},
   "source": [
    "### Method 1 : Naive appending\n",
    "\n",
    "```python\n",
    "def method1():\n",
    "    out_str = ''\n",
    "    for num in xrange(loop_count):\n",
    "        out_str += 'num'\n",
    "        return out_str\n",
    "```\n",
    "\n",
    "이 방법은 아까와 같이 쓸모없는 객체를 생성함으로 GC의 대상이 되므로 매우 좋지않은 코딩 방법이다."
   ]
  },
  {
   "cell_type": "markdown",
   "metadata": {},
   "source": []
  }
 ],
 "metadata": {
  "kernelspec": {
   "display_name": "Python 3",
   "language": "python",
   "name": "python3"
  },
  "language_info": {
   "codemirror_mode": {
    "name": "ipython",
    "version": 3
   },
   "file_extension": ".py",
   "mimetype": "text/x-python",
   "name": "python",
   "nbconvert_exporter": "python",
   "pygments_lexer": "ipython3",
   "version": "3.5.3"
  }
 },
 "nbformat": 4,
 "nbformat_minor": 2
}
