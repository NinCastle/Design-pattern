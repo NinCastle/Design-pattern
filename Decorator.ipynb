{
 "cells": [
  {
   "cell_type": "markdown",
   "metadata": {},
   "source": [
    "# Decorator\n",
    "[First-class citizen](http://whatisthenext.tistory.com/111)<br>\n",
    "[First-class citizen-2](http://schoolofweb.net/blog/posts/파이썬-퍼스트클래스-함수-first-class-function/)<br>\n",
    "[Closure](http://whatisthenext.tistory.com/112)<br>\n",
    "[Closure-2](http://schoolofweb.net/blog/posts/%ED%8C%8C%EC%9D%B4%EC%8D%AC-%ED%81%B4%EB%A1%9C%EC%A0%80-closure/)<br>\n",
    "[Closure-3](https://dojang.io/mod/page/view.php?id=1065)<br>\n",
    "[args, kwargs](https://ddanggle.gitbooks.io/interpy-kr/content/ch1-args-kwargs.html)<br>\n",
    "[Decorator pattern Link](http://whatisthenext.tistory.com/113)<br>\n",
    "[Decorator pattern Link-2](http://schoolofweb.net/blog/posts/%ED%8C%8C%EC%9D%B4%EC%8D%AC-%EB%8D%B0%EC%BD%94%EB%A0%88%EC%9D%B4%ED%84%B0-decorator/)<br>\n",
    "[Decorator pattern Link-3](http://bluese05.tistory.com/30)<br>\n",
    "[Decorator pattern Link-4](https://jonnung.github.io/python/2015/08/17/python-decorator/)<br>\n",
    "아래 내용은 상기 링크 내용을 정리한 것"
   ]
  },
  {
   "cell_type": "markdown",
   "metadata": {},
   "source": [
    "## 사전 개념"
   ]
  },
  {
   "cell_type": "markdown",
   "metadata": {},
   "source": [
    "Decorator를 이해하기 위해서는 아래와 같은 3가지 개념이 사전에 필요하다.<br>\n",
    "가장 간단하게 설명하면. <br>\n",
    "    1. First-class citizen\n",
    "        * 함수 내에 함수를 정의할 수 있다.\n",
    "        * 함수를 인자로 전달할 수 있다.\n",
    "    2. Closure \n",
    "        * 내부(inner) 함수가 외부(outer) 함수의 인자를 기억하고 있는 것\n",
    "    3. *args(위치인자)와 **kwargs(키워드 인자)\n",
    "        * *args(위치인자): , 튜플 형태로 전달\n",
    "        * **kwargs(키워드 인자) : 키워드로 데이터를 보낼 수 있다. 딕셔너리 형태로 전달."
   ]
  },
  {
   "cell_type": "markdown",
   "metadata": {},
   "source": [
    "## First-class citizen(일등 시민)"
   ]
  },
  {
   "cell_type": "code",
   "execution_count": null,
   "metadata": {
    "collapsed": true
   },
   "outputs": [],
   "source": []
  },
  {
   "cell_type": "code",
   "execution_count": null,
   "metadata": {
    "collapsed": true
   },
   "outputs": [],
   "source": []
  },
  {
   "cell_type": "code",
   "execution_count": null,
   "metadata": {
    "collapsed": true
   },
   "outputs": [],
   "source": []
  },
  {
   "cell_type": "code",
   "execution_count": null,
   "metadata": {
    "collapsed": true
   },
   "outputs": [],
   "source": []
  },
  {
   "cell_type": "code",
   "execution_count": null,
   "metadata": {
    "collapsed": true
   },
   "outputs": [],
   "source": []
  },
  {
   "cell_type": "code",
   "execution_count": null,
   "metadata": {
    "collapsed": true
   },
   "outputs": [],
   "source": []
  },
  {
   "cell_type": "code",
   "execution_count": null,
   "metadata": {
    "collapsed": true
   },
   "outputs": [],
   "source": []
  },
  {
   "cell_type": "code",
   "execution_count": null,
   "metadata": {
    "collapsed": true
   },
   "outputs": [],
   "source": []
  },
  {
   "cell_type": "code",
   "execution_count": null,
   "metadata": {
    "collapsed": true
   },
   "outputs": [],
   "source": []
  },
  {
   "cell_type": "code",
   "execution_count": null,
   "metadata": {
    "collapsed": true
   },
   "outputs": [],
   "source": []
  }
 ],
 "metadata": {
  "kernelspec": {
   "display_name": "Python 3",
   "language": "python",
   "name": "python3"
  },
  "language_info": {
   "codemirror_mode": {
    "name": "ipython",
    "version": 3
   },
   "file_extension": ".py",
   "mimetype": "text/x-python",
   "name": "python",
   "nbconvert_exporter": "python",
   "pygments_lexer": "ipython3",
   "version": "3.6.1"
  }
 },
 "nbformat": 4,
 "nbformat_minor": 2
}
